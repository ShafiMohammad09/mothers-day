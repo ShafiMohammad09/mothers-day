{
  "metadata": {
    "language_info": {
      "codemirror_mode": {
        "name": "python",
        "version": 3
      },
      "file_extension": ".py",
      "mimetype": "text/x-python",
      "name": "python",
      "nbconvert_exporter": "python",
      "pygments_lexer": "ipython3",
      "version": "3.8"
    },
    "kernelspec": {
      "name": "python",
      "display_name": "Python (Pyodide)",
      "language": "python"
    }
  },
  "nbformat_minor": 4,
  "nbformat": 4,
  "cells": [
    {
      "cell_type": "code",
      "source": "import time\n\ndef print_message(message):\n    for char in message:\n        print(char, end='', flush=True)\n        time.sleep(0.1)\n    print()\n\ndef dedicate_to_mentor():\n    print_message(\"This code is dedicated to my one true mentor...\")\n    time.sleep(1)\n    print_message(\"MAA\")\n    time.sleep(1)\n    print_message(\"Mentor like no other\")\n    time.sleep(1)\n    print(\"Happy Mother's Day!\")\n\ndedicate_to_mentor()",
      "metadata": {
        "trusted": true
      },
      "execution_count": 2,
      "outputs": [
        {
          "name": "stdout",
          "text": "This code is dedicated to my one true mentor...\nMAA\nMentor like no other\nHappy Mother's Day!\n",
          "output_type": "stream"
        }
      ]
    }
  ]
}